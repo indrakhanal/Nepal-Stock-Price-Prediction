{
 "cells": [
  {
   "cell_type": "code",
   "execution_count": 1,
   "id": "722d305b",
   "metadata": {},
   "outputs": [],
   "source": [
    "import pandas as pd\n",
    "import datetime"
   ]
  },
  {
   "cell_type": "code",
   "execution_count": 2,
   "id": "1ca0eb96",
   "metadata": {
    "scrolled": true
   },
   "outputs": [],
   "source": [
    "df = pd.read_csv('OHLC.csv')"
   ]
  },
  {
   "cell_type": "code",
   "execution_count": 3,
   "id": "20901bd6",
   "metadata": {},
   "outputs": [
    {
     "data": {
      "text/html": [
       "<div>\n",
       "<style scoped>\n",
       "    .dataframe tbody tr th:only-of-type {\n",
       "        vertical-align: middle;\n",
       "    }\n",
       "\n",
       "    .dataframe tbody tr th {\n",
       "        vertical-align: top;\n",
       "    }\n",
       "\n",
       "    .dataframe thead th {\n",
       "        text-align: right;\n",
       "    }\n",
       "</style>\n",
       "<table border=\"1\" class=\"dataframe\">\n",
       "  <thead>\n",
       "    <tr style=\"text-align: right;\">\n",
       "      <th></th>\n",
       "      <th>S.no</th>\n",
       "      <th>Symbol</th>\n",
       "      <th>Date</th>\n",
       "      <th>Open</th>\n",
       "      <th>High</th>\n",
       "      <th>Low</th>\n",
       "      <th>Close</th>\n",
       "      <th>Vol</th>\n",
       "    </tr>\n",
       "  </thead>\n",
       "  <tbody>\n",
       "    <tr>\n",
       "      <th>0</th>\n",
       "      <td>0</td>\n",
       "      <td>ACEDBL</td>\n",
       "      <td>2012-01-01.csv</td>\n",
       "      <td>114.0</td>\n",
       "      <td>113.0</td>\n",
       "      <td>112.0</td>\n",
       "      <td>113.0</td>\n",
       "      <td>1,962</td>\n",
       "    </tr>\n",
       "    <tr>\n",
       "      <th>1</th>\n",
       "      <td>1</td>\n",
       "      <td>ACEDPO</td>\n",
       "      <td>2012-01-01.csv</td>\n",
       "      <td>188.0</td>\n",
       "      <td>114.0</td>\n",
       "      <td>114.0</td>\n",
       "      <td>114.0</td>\n",
       "      <td>10,000</td>\n",
       "    </tr>\n",
       "    <tr>\n",
       "      <th>2</th>\n",
       "      <td>2</td>\n",
       "      <td>ADBL</td>\n",
       "      <td>2012-01-01.csv</td>\n",
       "      <td>115.0</td>\n",
       "      <td>115.0</td>\n",
       "      <td>113.0</td>\n",
       "      <td>114.0</td>\n",
       "      <td>1,111</td>\n",
       "    </tr>\n",
       "    <tr>\n",
       "      <th>3</th>\n",
       "      <td>3</td>\n",
       "      <td>AHPC</td>\n",
       "      <td>2012-01-01.csv</td>\n",
       "      <td>319.0</td>\n",
       "      <td>319.0</td>\n",
       "      <td>312.0</td>\n",
       "      <td>312.0</td>\n",
       "      <td>377</td>\n",
       "    </tr>\n",
       "    <tr>\n",
       "      <th>4</th>\n",
       "      <td>4</td>\n",
       "      <td>ALDBL</td>\n",
       "      <td>2012-01-01.csv</td>\n",
       "      <td>102.0</td>\n",
       "      <td>101.0</td>\n",
       "      <td>101.0</td>\n",
       "      <td>101.0</td>\n",
       "      <td>30</td>\n",
       "    </tr>\n",
       "    <tr>\n",
       "      <th>5</th>\n",
       "      <td>5</td>\n",
       "      <td>ALICL</td>\n",
       "      <td>2012-01-01.csv</td>\n",
       "      <td>168.0</td>\n",
       "      <td>165.0</td>\n",
       "      <td>165.0</td>\n",
       "      <td>165.0</td>\n",
       "      <td>50</td>\n",
       "    </tr>\n",
       "    <tr>\n",
       "      <th>6</th>\n",
       "      <td>6</td>\n",
       "      <td>BLDBL</td>\n",
       "      <td>2012-01-01.csv</td>\n",
       "      <td>132.0</td>\n",
       "      <td>125.0</td>\n",
       "      <td>124.0</td>\n",
       "      <td>124.0</td>\n",
       "      <td>290</td>\n",
       "    </tr>\n",
       "    <tr>\n",
       "      <th>7</th>\n",
       "      <td>7</td>\n",
       "      <td>BOAN</td>\n",
       "      <td>2012-01-01.csv</td>\n",
       "      <td>160.0</td>\n",
       "      <td>168.0</td>\n",
       "      <td>159.0</td>\n",
       "      <td>168.0</td>\n",
       "      <td>1,735</td>\n",
       "    </tr>\n",
       "    <tr>\n",
       "      <th>8</th>\n",
       "      <td>8</td>\n",
       "      <td>BOK</td>\n",
       "      <td>2012-01-01.csv</td>\n",
       "      <td>415.0</td>\n",
       "      <td>435.0</td>\n",
       "      <td>407.0</td>\n",
       "      <td>435.0</td>\n",
       "      <td>5,719</td>\n",
       "    </tr>\n",
       "    <tr>\n",
       "      <th>9</th>\n",
       "      <td>9</td>\n",
       "      <td>BPCL</td>\n",
       "      <td>2012-01-01.csv</td>\n",
       "      <td>504.0</td>\n",
       "      <td>494.0</td>\n",
       "      <td>494.0</td>\n",
       "      <td>494.0</td>\n",
       "      <td>23</td>\n",
       "    </tr>\n",
       "  </tbody>\n",
       "</table>\n",
       "</div>"
      ],
      "text/plain": [
       "   S.no  Symbol            Date   Open   High    Low  Close     Vol\n",
       "0     0  ACEDBL  2012-01-01.csv  114.0  113.0  112.0  113.0   1,962\n",
       "1     1  ACEDPO  2012-01-01.csv  188.0  114.0  114.0  114.0  10,000\n",
       "2     2    ADBL  2012-01-01.csv  115.0  115.0  113.0  114.0   1,111\n",
       "3     3    AHPC  2012-01-01.csv  319.0  319.0  312.0  312.0     377\n",
       "4     4   ALDBL  2012-01-01.csv  102.0  101.0  101.0  101.0      30\n",
       "5     5   ALICL  2012-01-01.csv  168.0  165.0  165.0  165.0      50\n",
       "6     6   BLDBL  2012-01-01.csv  132.0  125.0  124.0  124.0     290\n",
       "7     7    BOAN  2012-01-01.csv  160.0  168.0  159.0  168.0   1,735\n",
       "8     8     BOK  2012-01-01.csv  415.0  435.0  407.0  435.0   5,719\n",
       "9     9    BPCL  2012-01-01.csv  504.0  494.0  494.0  494.0      23"
      ]
     },
     "execution_count": 3,
     "metadata": {},
     "output_type": "execute_result"
    }
   ],
   "source": [
    "df.head(10)"
   ]
  },
  {
   "cell_type": "code",
   "execution_count": 4,
   "id": "33b9b7f0",
   "metadata": {},
   "outputs": [
    {
     "data": {
      "text/plain": [
       "(250901, 8)"
      ]
     },
     "execution_count": 4,
     "metadata": {},
     "output_type": "execute_result"
    }
   ],
   "source": [
    "df.shape"
   ]
  },
  {
   "cell_type": "code",
   "execution_count": 5,
   "id": "42598828",
   "metadata": {},
   "outputs": [],
   "source": [
    "columns_to_remove = ['S.no']\n",
    "df.drop(labels=columns_to_remove, axis=1, inplace=True)"
   ]
  },
  {
   "cell_type": "code",
   "execution_count": 6,
   "id": "efb65352",
   "metadata": {},
   "outputs": [
    {
     "data": {
      "text/html": [
       "<div>\n",
       "<style scoped>\n",
       "    .dataframe tbody tr th:only-of-type {\n",
       "        vertical-align: middle;\n",
       "    }\n",
       "\n",
       "    .dataframe tbody tr th {\n",
       "        vertical-align: top;\n",
       "    }\n",
       "\n",
       "    .dataframe thead th {\n",
       "        text-align: right;\n",
       "    }\n",
       "</style>\n",
       "<table border=\"1\" class=\"dataframe\">\n",
       "  <thead>\n",
       "    <tr style=\"text-align: right;\">\n",
       "      <th></th>\n",
       "      <th>Symbol</th>\n",
       "      <th>Date</th>\n",
       "      <th>Open</th>\n",
       "      <th>High</th>\n",
       "      <th>Low</th>\n",
       "      <th>Close</th>\n",
       "      <th>Vol</th>\n",
       "    </tr>\n",
       "  </thead>\n",
       "  <tbody>\n",
       "    <tr>\n",
       "      <th>0</th>\n",
       "      <td>ACEDBL</td>\n",
       "      <td>2012-01-01.csv</td>\n",
       "      <td>114.0</td>\n",
       "      <td>113.0</td>\n",
       "      <td>112.0</td>\n",
       "      <td>113.0</td>\n",
       "      <td>1,962</td>\n",
       "    </tr>\n",
       "    <tr>\n",
       "      <th>1</th>\n",
       "      <td>ACEDPO</td>\n",
       "      <td>2012-01-01.csv</td>\n",
       "      <td>188.0</td>\n",
       "      <td>114.0</td>\n",
       "      <td>114.0</td>\n",
       "      <td>114.0</td>\n",
       "      <td>10,000</td>\n",
       "    </tr>\n",
       "    <tr>\n",
       "      <th>2</th>\n",
       "      <td>ADBL</td>\n",
       "      <td>2012-01-01.csv</td>\n",
       "      <td>115.0</td>\n",
       "      <td>115.0</td>\n",
       "      <td>113.0</td>\n",
       "      <td>114.0</td>\n",
       "      <td>1,111</td>\n",
       "    </tr>\n",
       "    <tr>\n",
       "      <th>3</th>\n",
       "      <td>AHPC</td>\n",
       "      <td>2012-01-01.csv</td>\n",
       "      <td>319.0</td>\n",
       "      <td>319.0</td>\n",
       "      <td>312.0</td>\n",
       "      <td>312.0</td>\n",
       "      <td>377</td>\n",
       "    </tr>\n",
       "    <tr>\n",
       "      <th>4</th>\n",
       "      <td>ALDBL</td>\n",
       "      <td>2012-01-01.csv</td>\n",
       "      <td>102.0</td>\n",
       "      <td>101.0</td>\n",
       "      <td>101.0</td>\n",
       "      <td>101.0</td>\n",
       "      <td>30</td>\n",
       "    </tr>\n",
       "  </tbody>\n",
       "</table>\n",
       "</div>"
      ],
      "text/plain": [
       "   Symbol            Date   Open   High    Low  Close     Vol\n",
       "0  ACEDBL  2012-01-01.csv  114.0  113.0  112.0  113.0   1,962\n",
       "1  ACEDPO  2012-01-01.csv  188.0  114.0  114.0  114.0  10,000\n",
       "2    ADBL  2012-01-01.csv  115.0  115.0  113.0  114.0   1,111\n",
       "3    AHPC  2012-01-01.csv  319.0  319.0  312.0  312.0     377\n",
       "4   ALDBL  2012-01-01.csv  102.0  101.0  101.0  101.0      30"
      ]
     },
     "execution_count": 6,
     "metadata": {},
     "output_type": "execute_result"
    }
   ],
   "source": [
    "df.head()"
   ]
  },
  {
   "cell_type": "code",
   "execution_count": 7,
   "id": "b63e8b75",
   "metadata": {},
   "outputs": [],
   "source": [
    "all_script = df['Symbol'].unique()"
   ]
  },
  {
   "cell_type": "code",
   "execution_count": 8,
   "id": "593cc217",
   "metadata": {},
   "outputs": [],
   "source": [
    "current_active_script = ('HBL NBB NABIL NIB NBL CBL SCB CZBIL ADBL SBL BOKL MBL NMB PRVU PCBL SRBL EBL NCCB MEGA CCBL NICA LBL GBIME SBI KBL SANIMA JBNL  JBBL CORBL DBBL SINDU NCDB SKDBL NIDC KRBL WDBL MMDBL ODBL KEBL KSBBL SHBL MDB GDBL SHINE TDBLKADBL SBBLJ EDBL GBBL TNBL MNBBL NABBC KBBL KNBL SADBL BHBL MIDBL GRDBL LBBL MLBL PURBL HAMRO NFS SFC KMBSL ARUN RLFL UFL WMBF ICFC HFL SIFC MPFL NBSL NSM GFCL SYFL  GUFL PFL SFFIL CFL LFC JFL MFIL FC CFCL CMB GMFIL PROFL JEFL OHL SHL YHL TRH DHPL API KKHC CHL NHDL AHPC RHPC HPPL SHPC NHPC CHCL BARUN AKPL BPCL SPDL NGPL UMHL PIC SIC ALICL SLICL NIL PRIN HGI  EIC IGI LICN GLICL NICL PLIC NLG UIC NLIC SIL RBCL LGIL SICL NLICL PICL BSM GRU AVU SBPP BNL JSM FHL NLO SRS NVG RJM NBBU HDL BNT BSL UNL HBT NKU NUBL SKBBL MLBBL NMFBS RSDC SWBBL NMBMF FOWAD SMATA SMFDB NBBL VLBS GILB WOMI MERO FMDBL NGBBL NNLB SDESI DDBL MSMBS NLBBL SLBBL KMFL MSL JSLBB SLBS CBBL RMDC KMCDB LLBS MMFDB CLBSL NBF1 LVF1 NIBSF1 GIMES1 NEF NIBLPF NMBSF1 SEOS SEF NMBHF1 LEMF HIDCL NFD NTC CIT EBLCP NLICP GLICLP SILPO CBLPO KSBBLP CZBILP LBBLPO MEGAPO KBBLPO NIBPO KMCDBP KBLPO GUFLPO SBLPO ODBLPO RBCLPO NFSPO GBIMEP SRBLPO NABILP ALICLP NCCBPO GMFILP MLBLPO GDBLPO NTL STC BBC NWC')"
   ]
  },
  {
   "cell_type": "code",
   "execution_count": 9,
   "id": "c6c026e3",
   "metadata": {},
   "outputs": [],
   "source": [
    "new_data = current_active_script.split(' ')"
   ]
  },
  {
   "cell_type": "code",
   "execution_count": 10,
   "id": "db3c66ae",
   "metadata": {},
   "outputs": [
    {
     "name": "stdout",
     "output_type": "stream",
     "text": [
      "['HBL', 'NBB', 'NABIL', 'NIB', 'NBL', 'CBL', 'SCB', 'CZBIL', 'ADBL', 'SBL', 'BOKL', 'MBL', 'NMB', 'PRVU', 'PCBL', 'SRBL', 'EBL', 'NCCB', 'MEGA', 'CCBL', 'NICA', 'LBL', 'GBIME', 'SBI', 'KBL', 'SANIMA', 'JBNL', '', 'JBBL', 'CORBL', 'DBBL', 'SINDU', 'NCDB', 'SKDBL', 'NIDC', 'KRBL', 'WDBL', 'MMDBL', 'ODBL', 'KEBL', 'KSBBL', 'SHBL', 'MDB', 'GDBL', 'SHINE', 'TDBLKADBL', 'SBBLJ', 'EDBL', 'GBBL', 'TNBL', 'MNBBL', 'NABBC', 'KBBL', 'KNBL', 'SADBL', 'BHBL', 'MIDBL', 'GRDBL', 'LBBL', 'MLBL', 'PURBL', 'HAMRO', 'NFS', 'SFC', 'KMBSL', 'ARUN', 'RLFL', 'UFL', 'WMBF', 'ICFC', 'HFL', 'SIFC', 'MPFL', 'NBSL', 'NSM', 'GFCL', 'SYFL', '', 'GUFL', 'PFL', 'SFFIL', 'CFL', 'LFC', 'JFL', 'MFIL', 'FC', 'CFCL', 'CMB', 'GMFIL', 'PROFL', 'JEFL', 'OHL', 'SHL', 'YHL', 'TRH', 'DHPL', 'API', 'KKHC', 'CHL', 'NHDL', 'AHPC', 'RHPC', 'HPPL', 'SHPC', 'NHPC', 'CHCL', 'BARUN', 'AKPL', 'BPCL', 'SPDL', 'NGPL', 'UMHL', 'PIC', 'SIC', 'ALICL', 'SLICL', 'NIL', 'PRIN', 'HGI', '', 'EIC', 'IGI', 'LICN', 'GLICL', 'NICL', 'PLIC', 'NLG', 'UIC', 'NLIC', 'SIL', 'RBCL', 'LGIL', 'SICL', 'NLICL', 'PICL', 'BSM', 'GRU', 'AVU', 'SBPP', 'BNL', 'JSM', 'FHL', 'NLO', 'SRS', 'NVG', 'RJM', 'NBBU', 'HDL', 'BNT', 'BSL', 'UNL', 'HBT', 'NKU', 'NUBL', 'SKBBL', 'MLBBL', 'NMFBS', 'RSDC', 'SWBBL', 'NMBMF', 'FOWAD', 'SMATA', 'SMFDB', 'NBBL', 'VLBS', 'GILB', 'WOMI', 'MERO', 'FMDBL', 'NGBBL', 'NNLB', 'SDESI', 'DDBL', 'MSMBS', 'NLBBL', 'SLBBL', 'KMFL', 'MSL', 'JSLBB', 'SLBS', 'CBBL', 'RMDC', 'KMCDB', 'LLBS', 'MMFDB', 'CLBSL', 'NBF1', 'LVF1', 'NIBSF1', 'GIMES1', 'NEF', 'NIBLPF', 'NMBSF1', 'SEOS', 'SEF', 'NMBHF1', 'LEMF', 'HIDCL', 'NFD', 'NTC', 'CIT', 'EBLCP', 'NLICP', 'GLICLP', 'SILPO', 'CBLPO', 'KSBBLP', 'CZBILP', 'LBBLPO', 'MEGAPO', 'KBBLPO', 'NIBPO', 'KMCDBP', 'KBLPO', 'GUFLPO', 'SBLPO', 'ODBLPO', 'RBCLPO', 'NFSPO', 'GBIMEP', 'SRBLPO', 'NABILP', 'ALICLP', 'NCCBPO', 'GMFILP', 'MLBLPO', 'GDBLPO', 'NTL', 'STC', 'BBC', 'NWC']\n"
     ]
    }
   ],
   "source": [
    "print(new_data)"
   ]
  },
  {
   "cell_type": "code",
   "execution_count": 11,
   "id": "03bc0497",
   "metadata": {},
   "outputs": [
    {
     "name": "stdout",
     "output_type": "stream",
     "text": [
      "523 231\n"
     ]
    }
   ],
   "source": [
    "print(len(all_script), len(new_data))"
   ]
  },
  {
   "cell_type": "code",
   "execution_count": 12,
   "id": "7cb46ebd",
   "metadata": {
    "scrolled": true
   },
   "outputs": [
    {
     "data": {
      "text/plain": [
       "292"
      ]
     },
     "execution_count": 12,
     "metadata": {},
     "output_type": "execute_result"
    }
   ],
   "source": [
    "523-231"
   ]
  },
  {
   "cell_type": "code",
   "execution_count": 13,
   "id": "95928bc4",
   "metadata": {},
   "outputs": [],
   "source": [
    "df = df[(df['Symbol'].isin(new_data))]"
   ]
  },
  {
   "cell_type": "code",
   "execution_count": 14,
   "id": "efcbc0bd",
   "metadata": {},
   "outputs": [
    {
     "data": {
      "text/plain": [
       "207"
      ]
     },
     "execution_count": 14,
     "metadata": {},
     "output_type": "execute_result"
    }
   ],
   "source": [
    "len(df['Symbol'].unique())"
   ]
  },
  {
   "cell_type": "code",
   "execution_count": 15,
   "id": "1c73080b",
   "metadata": {},
   "outputs": [],
   "source": [
    "a = set(df['Symbol'])\n",
    "b= list(a)"
   ]
  },
  {
   "cell_type": "code",
   "execution_count": 16,
   "id": "fc43ef72",
   "metadata": {},
   "outputs": [],
   "source": [
    "with open('script.txt', 'w') as f:\n",
    "    f.write(str(b))"
   ]
  },
  {
   "cell_type": "code",
   "execution_count": 17,
   "id": "3a822c3a",
   "metadata": {},
   "outputs": [
    {
     "data": {
      "text/plain": [
       "(197989, 7)"
      ]
     },
     "execution_count": 17,
     "metadata": {},
     "output_type": "execute_result"
    }
   ],
   "source": [
    "df.shape"
   ]
  },
  {
   "cell_type": "code",
   "execution_count": 18,
   "id": "389c569f",
   "metadata": {},
   "outputs": [],
   "source": [
    "df['Open'] = df['Open'].astype(int)\n",
    "df['High'] = df['High'].astype(int)\n",
    "df['Low'] = df['Low'].astype(int)\n",
    "df['Close'] = df['Close'].astype(int)"
   ]
  },
  {
   "cell_type": "code",
   "execution_count": 19,
   "id": "2ae2820a",
   "metadata": {},
   "outputs": [],
   "source": [
    "date_list = []\n",
    "for item in df['Date']:\n",
    "    date_list.append(item)\n",
    "    \n",
    "i=0\n",
    "clean_date = []\n",
    "while(i!= len(date_list)-1):\n",
    "    a = date_list[i].strip('.csv')\n",
    "    clean_date.append(a)\n",
    "    i+=1"
   ]
  },
  {
   "cell_type": "code",
   "execution_count": 20,
   "id": "9a3b454b",
   "metadata": {
    "scrolled": true
   },
   "outputs": [],
   "source": [
    "new_dict = {}"
   ]
  },
  {
   "cell_type": "code",
   "execution_count": 21,
   "id": "34d8a7bd",
   "metadata": {},
   "outputs": [
    {
     "data": {
      "text/plain": [
       "(197989, 197988)"
      ]
     },
     "execution_count": 21,
     "metadata": {},
     "output_type": "execute_result"
    }
   ],
   "source": [
    "len(date_list), len(clean_date)"
   ]
  },
  {
   "cell_type": "code",
   "execution_count": 22,
   "id": "98d11fdd",
   "metadata": {},
   "outputs": [],
   "source": [
    "dict_date = dict(zip(date_list ,clean_date))"
   ]
  },
  {
   "cell_type": "code",
   "execution_count": 23,
   "id": "f715628c",
   "metadata": {},
   "outputs": [],
   "source": [
    "df['Date'].replace(dict_date, inplace=True)"
   ]
  },
  {
   "cell_type": "code",
   "execution_count": 24,
   "id": "5ab2703c",
   "metadata": {},
   "outputs": [
    {
     "data": {
      "text/html": [
       "<div>\n",
       "<style scoped>\n",
       "    .dataframe tbody tr th:only-of-type {\n",
       "        vertical-align: middle;\n",
       "    }\n",
       "\n",
       "    .dataframe tbody tr th {\n",
       "        vertical-align: top;\n",
       "    }\n",
       "\n",
       "    .dataframe thead th {\n",
       "        text-align: right;\n",
       "    }\n",
       "</style>\n",
       "<table border=\"1\" class=\"dataframe\">\n",
       "  <thead>\n",
       "    <tr style=\"text-align: right;\">\n",
       "      <th></th>\n",
       "      <th>Symbol</th>\n",
       "      <th>Date</th>\n",
       "      <th>Open</th>\n",
       "      <th>High</th>\n",
       "      <th>Low</th>\n",
       "      <th>Close</th>\n",
       "      <th>Vol</th>\n",
       "    </tr>\n",
       "  </thead>\n",
       "  <tbody>\n",
       "    <tr>\n",
       "      <th>2</th>\n",
       "      <td>ADBL</td>\n",
       "      <td>2012-01-01</td>\n",
       "      <td>115</td>\n",
       "      <td>115</td>\n",
       "      <td>113</td>\n",
       "      <td>114</td>\n",
       "      <td>1,111</td>\n",
       "    </tr>\n",
       "    <tr>\n",
       "      <th>3</th>\n",
       "      <td>AHPC</td>\n",
       "      <td>2012-01-01</td>\n",
       "      <td>319</td>\n",
       "      <td>319</td>\n",
       "      <td>312</td>\n",
       "      <td>312</td>\n",
       "      <td>377</td>\n",
       "    </tr>\n",
       "    <tr>\n",
       "      <th>5</th>\n",
       "      <td>ALICL</td>\n",
       "      <td>2012-01-01</td>\n",
       "      <td>168</td>\n",
       "      <td>165</td>\n",
       "      <td>165</td>\n",
       "      <td>165</td>\n",
       "      <td>50</td>\n",
       "    </tr>\n",
       "    <tr>\n",
       "      <th>9</th>\n",
       "      <td>BPCL</td>\n",
       "      <td>2012-01-01</td>\n",
       "      <td>504</td>\n",
       "      <td>494</td>\n",
       "      <td>494</td>\n",
       "      <td>494</td>\n",
       "      <td>23</td>\n",
       "    </tr>\n",
       "    <tr>\n",
       "      <th>12</th>\n",
       "      <td>CHCL</td>\n",
       "      <td>2012-01-01</td>\n",
       "      <td>601</td>\n",
       "      <td>630</td>\n",
       "      <td>597</td>\n",
       "      <td>602</td>\n",
       "      <td>2,940</td>\n",
       "    </tr>\n",
       "  </tbody>\n",
       "</table>\n",
       "</div>"
      ],
      "text/plain": [
       "   Symbol        Date  Open  High  Low  Close    Vol\n",
       "2    ADBL  2012-01-01   115   115  113    114  1,111\n",
       "3    AHPC  2012-01-01   319   319  312    312    377\n",
       "5   ALICL  2012-01-01   168   165  165    165     50\n",
       "9    BPCL  2012-01-01   504   494  494    494     23\n",
       "12   CHCL  2012-01-01   601   630  597    602  2,940"
      ]
     },
     "execution_count": 24,
     "metadata": {},
     "output_type": "execute_result"
    }
   ],
   "source": [
    "df.head()"
   ]
  },
  {
   "cell_type": "code",
   "execution_count": 25,
   "id": "915d8665",
   "metadata": {},
   "outputs": [],
   "source": [
    "final_df = pd.get_dummies(data=df, columns=['Symbol'])"
   ]
  },
  {
   "cell_type": "code",
   "execution_count": 26,
   "id": "d32d417b",
   "metadata": {},
   "outputs": [],
   "source": [
    "from datetime import datetime\n",
    "df['Date'] = df['Date'].apply(lambda x: datetime.strptime(x, '%Y-%m-%d'))"
   ]
  },
  {
   "cell_type": "code",
   "execution_count": 27,
   "id": "a7746a38",
   "metadata": {
    "scrolled": false
   },
   "outputs": [
    {
     "data": {
      "text/html": [
       "<div>\n",
       "<style scoped>\n",
       "    .dataframe tbody tr th:only-of-type {\n",
       "        vertical-align: middle;\n",
       "    }\n",
       "\n",
       "    .dataframe tbody tr th {\n",
       "        vertical-align: top;\n",
       "    }\n",
       "\n",
       "    .dataframe thead th {\n",
       "        text-align: right;\n",
       "    }\n",
       "</style>\n",
       "<table border=\"1\" class=\"dataframe\">\n",
       "  <thead>\n",
       "    <tr style=\"text-align: right;\">\n",
       "      <th></th>\n",
       "      <th>Date</th>\n",
       "      <th>Open</th>\n",
       "      <th>High</th>\n",
       "      <th>Low</th>\n",
       "      <th>Close</th>\n",
       "      <th>Vol</th>\n",
       "      <th>Symbol_ADBL</th>\n",
       "      <th>Symbol_AHPC</th>\n",
       "      <th>Symbol_AKPL</th>\n",
       "      <th>Symbol_ALICL</th>\n",
       "      <th>...</th>\n",
       "      <th>Symbol_TNBL</th>\n",
       "      <th>Symbol_TRH</th>\n",
       "      <th>Symbol_UFL</th>\n",
       "      <th>Symbol_UIC</th>\n",
       "      <th>Symbol_UMHL</th>\n",
       "      <th>Symbol_UNL</th>\n",
       "      <th>Symbol_VLBS</th>\n",
       "      <th>Symbol_WDBL</th>\n",
       "      <th>Symbol_WMBF</th>\n",
       "      <th>Symbol_WOMI</th>\n",
       "    </tr>\n",
       "  </thead>\n",
       "  <tbody>\n",
       "    <tr>\n",
       "      <th>2</th>\n",
       "      <td>2012-01-01</td>\n",
       "      <td>115</td>\n",
       "      <td>115</td>\n",
       "      <td>113</td>\n",
       "      <td>114</td>\n",
       "      <td>1,111</td>\n",
       "      <td>1</td>\n",
       "      <td>0</td>\n",
       "      <td>0</td>\n",
       "      <td>0</td>\n",
       "      <td>...</td>\n",
       "      <td>0</td>\n",
       "      <td>0</td>\n",
       "      <td>0</td>\n",
       "      <td>0</td>\n",
       "      <td>0</td>\n",
       "      <td>0</td>\n",
       "      <td>0</td>\n",
       "      <td>0</td>\n",
       "      <td>0</td>\n",
       "      <td>0</td>\n",
       "    </tr>\n",
       "    <tr>\n",
       "      <th>3</th>\n",
       "      <td>2012-01-01</td>\n",
       "      <td>319</td>\n",
       "      <td>319</td>\n",
       "      <td>312</td>\n",
       "      <td>312</td>\n",
       "      <td>377</td>\n",
       "      <td>0</td>\n",
       "      <td>1</td>\n",
       "      <td>0</td>\n",
       "      <td>0</td>\n",
       "      <td>...</td>\n",
       "      <td>0</td>\n",
       "      <td>0</td>\n",
       "      <td>0</td>\n",
       "      <td>0</td>\n",
       "      <td>0</td>\n",
       "      <td>0</td>\n",
       "      <td>0</td>\n",
       "      <td>0</td>\n",
       "      <td>0</td>\n",
       "      <td>0</td>\n",
       "    </tr>\n",
       "    <tr>\n",
       "      <th>5</th>\n",
       "      <td>2012-01-01</td>\n",
       "      <td>168</td>\n",
       "      <td>165</td>\n",
       "      <td>165</td>\n",
       "      <td>165</td>\n",
       "      <td>50</td>\n",
       "      <td>0</td>\n",
       "      <td>0</td>\n",
       "      <td>0</td>\n",
       "      <td>1</td>\n",
       "      <td>...</td>\n",
       "      <td>0</td>\n",
       "      <td>0</td>\n",
       "      <td>0</td>\n",
       "      <td>0</td>\n",
       "      <td>0</td>\n",
       "      <td>0</td>\n",
       "      <td>0</td>\n",
       "      <td>0</td>\n",
       "      <td>0</td>\n",
       "      <td>0</td>\n",
       "    </tr>\n",
       "    <tr>\n",
       "      <th>9</th>\n",
       "      <td>2012-01-01</td>\n",
       "      <td>504</td>\n",
       "      <td>494</td>\n",
       "      <td>494</td>\n",
       "      <td>494</td>\n",
       "      <td>23</td>\n",
       "      <td>0</td>\n",
       "      <td>0</td>\n",
       "      <td>0</td>\n",
       "      <td>0</td>\n",
       "      <td>...</td>\n",
       "      <td>0</td>\n",
       "      <td>0</td>\n",
       "      <td>0</td>\n",
       "      <td>0</td>\n",
       "      <td>0</td>\n",
       "      <td>0</td>\n",
       "      <td>0</td>\n",
       "      <td>0</td>\n",
       "      <td>0</td>\n",
       "      <td>0</td>\n",
       "    </tr>\n",
       "    <tr>\n",
       "      <th>12</th>\n",
       "      <td>2012-01-01</td>\n",
       "      <td>601</td>\n",
       "      <td>630</td>\n",
       "      <td>597</td>\n",
       "      <td>602</td>\n",
       "      <td>2,940</td>\n",
       "      <td>0</td>\n",
       "      <td>0</td>\n",
       "      <td>0</td>\n",
       "      <td>0</td>\n",
       "      <td>...</td>\n",
       "      <td>0</td>\n",
       "      <td>0</td>\n",
       "      <td>0</td>\n",
       "      <td>0</td>\n",
       "      <td>0</td>\n",
       "      <td>0</td>\n",
       "      <td>0</td>\n",
       "      <td>0</td>\n",
       "      <td>0</td>\n",
       "      <td>0</td>\n",
       "    </tr>\n",
       "  </tbody>\n",
       "</table>\n",
       "<p>5 rows × 213 columns</p>\n",
       "</div>"
      ],
      "text/plain": [
       "          Date  Open  High  Low  Close    Vol  Symbol_ADBL  Symbol_AHPC  \\\n",
       "2   2012-01-01   115   115  113    114  1,111            1            0   \n",
       "3   2012-01-01   319   319  312    312    377            0            1   \n",
       "5   2012-01-01   168   165  165    165     50            0            0   \n",
       "9   2012-01-01   504   494  494    494     23            0            0   \n",
       "12  2012-01-01   601   630  597    602  2,940            0            0   \n",
       "\n",
       "    Symbol_AKPL  Symbol_ALICL  ...  Symbol_TNBL  Symbol_TRH  Symbol_UFL  \\\n",
       "2             0             0  ...            0           0           0   \n",
       "3             0             0  ...            0           0           0   \n",
       "5             0             1  ...            0           0           0   \n",
       "9             0             0  ...            0           0           0   \n",
       "12            0             0  ...            0           0           0   \n",
       "\n",
       "    Symbol_UIC  Symbol_UMHL  Symbol_UNL  Symbol_VLBS  Symbol_WDBL  \\\n",
       "2            0            0           0            0            0   \n",
       "3            0            0           0            0            0   \n",
       "5            0            0           0            0            0   \n",
       "9            0            0           0            0            0   \n",
       "12           0            0           0            0            0   \n",
       "\n",
       "    Symbol_WMBF  Symbol_WOMI  \n",
       "2             0            0  \n",
       "3             0            0  \n",
       "5             0            0  \n",
       "9             0            0  \n",
       "12            0            0  \n",
       "\n",
       "[5 rows x 213 columns]"
      ]
     },
     "execution_count": 27,
     "metadata": {},
     "output_type": "execute_result"
    }
   ],
   "source": [
    "final_df.head()"
   ]
  },
  {
   "cell_type": "code",
   "execution_count": 28,
   "id": "30e1a1ee",
   "metadata": {},
   "outputs": [
    {
     "data": {
      "text/plain": [
       "(197989, 213)"
      ]
     },
     "execution_count": 28,
     "metadata": {},
     "output_type": "execute_result"
    }
   ],
   "source": [
    "final_df.shape"
   ]
  },
  {
   "cell_type": "code",
   "execution_count": 29,
   "id": "62116e67",
   "metadata": {},
   "outputs": [
    {
     "data": {
      "text/plain": [
       "Date           object\n",
       "Open            int32\n",
       "High            int32\n",
       "Low             int32\n",
       "Close           int32\n",
       "                ...  \n",
       "Symbol_UNL      uint8\n",
       "Symbol_VLBS     uint8\n",
       "Symbol_WDBL     uint8\n",
       "Symbol_WMBF     uint8\n",
       "Symbol_WOMI     uint8\n",
       "Length: 213, dtype: object"
      ]
     },
     "execution_count": 29,
     "metadata": {},
     "output_type": "execute_result"
    }
   ],
   "source": [
    "final_df.dtypes"
   ]
  },
  {
   "cell_type": "code",
   "execution_count": 30,
   "id": "0d53dd66",
   "metadata": {},
   "outputs": [
    {
     "data": {
      "text/plain": [
       "pandas.core.series.Series"
      ]
     },
     "execution_count": 30,
     "metadata": {},
     "output_type": "execute_result"
    }
   ],
   "source": [
    "type(final_df['Date']) #.datetime.strptime('%y')>2014"
   ]
  },
  {
   "cell_type": "code",
   "execution_count": 31,
   "id": "ca75d2a0",
   "metadata": {},
   "outputs": [
    {
     "data": {
      "text/plain": [
       "2        2012-01-01\n",
       "3        2012-01-01\n",
       "5        2012-01-01\n",
       "9        2012-01-01\n",
       "12       2012-01-01\n",
       "            ...    \n",
       "250894   2020-03-22\n",
       "250895   2020-03-22\n",
       "250896   2020-03-22\n",
       "250897   2020-03-22\n",
       "250898   2020-03-22\n",
       "Name: Date, Length: 197989, dtype: datetime64[ns]"
      ]
     },
     "execution_count": 31,
     "metadata": {},
     "output_type": "execute_result"
    }
   ],
   "source": [
    "pd.to_datetime(pd.Series(df.Date))"
   ]
  },
  {
   "cell_type": "code",
   "execution_count": 32,
   "id": "5c7acc35",
   "metadata": {},
   "outputs": [
    {
     "data": {
      "text/plain": [
       "pandas.core.series.Series"
      ]
     },
     "execution_count": 32,
     "metadata": {},
     "output_type": "execute_result"
    }
   ],
   "source": [
    "final_df['Date'] = pd.to_datetime(pd.Series(final_df.Date))\n",
    "type(final_df['Date'])"
   ]
  },
  {
   "cell_type": "code",
   "execution_count": 33,
   "id": "1248f730",
   "metadata": {},
   "outputs": [],
   "source": [
    "x_train = final_df.drop(labels='Close', axis=1)[final_df['Date'].dt.year<=2017]\n",
    "x_test = final_df.drop(labels='Close', axis=1)[final_df['Date'].dt.year>=2018]"
   ]
  },
  {
   "cell_type": "code",
   "execution_count": 34,
   "id": "2a2f71b7",
   "metadata": {},
   "outputs": [
    {
     "data": {
      "text/plain": [
       "((120988, 212), (77001, 212))"
      ]
     },
     "execution_count": 34,
     "metadata": {},
     "output_type": "execute_result"
    }
   ],
   "source": [
    "x_train.shape, x_test.shape"
   ]
  },
  {
   "cell_type": "code",
   "execution_count": 35,
   "id": "eaf83530",
   "metadata": {},
   "outputs": [],
   "source": [
    "y_train = final_df[final_df['Date'].dt.year<=2017]['Close'].values\n",
    "y_test = final_df[final_df['Date'].dt.year>=2018]['Close'].values"
   ]
  },
  {
   "cell_type": "code",
   "execution_count": 36,
   "id": "22d04892",
   "metadata": {},
   "outputs": [],
   "source": [
    "x_train.drop(labels=['Date'], axis=True, inplace=True)\n",
    "x_test.drop(labels=['Date'], axis=True, inplace=True)\n",
    "x_train.drop(labels=['Vol'], axis=True, inplace=True)\n",
    "x_test.drop(labels=['Vol'], axis=True, inplace=True)"
   ]
  },
  {
   "cell_type": "code",
   "execution_count": 46,
   "id": "a78e0e57",
   "metadata": {},
   "outputs": [
    {
     "data": {
      "text/html": [
       "<div>\n",
       "<style scoped>\n",
       "    .dataframe tbody tr th:only-of-type {\n",
       "        vertical-align: middle;\n",
       "    }\n",
       "\n",
       "    .dataframe tbody tr th {\n",
       "        vertical-align: top;\n",
       "    }\n",
       "\n",
       "    .dataframe thead th {\n",
       "        text-align: right;\n",
       "    }\n",
       "</style>\n",
       "<table border=\"1\" class=\"dataframe\">\n",
       "  <thead>\n",
       "    <tr style=\"text-align: right;\">\n",
       "      <th></th>\n",
       "      <th>Open</th>\n",
       "      <th>High</th>\n",
       "      <th>Low</th>\n",
       "      <th>Symbol_ADBL</th>\n",
       "      <th>Symbol_AHPC</th>\n",
       "      <th>Symbol_AKPL</th>\n",
       "      <th>Symbol_ALICL</th>\n",
       "      <th>Symbol_ALICLP</th>\n",
       "      <th>Symbol_API</th>\n",
       "      <th>Symbol_ARUN</th>\n",
       "      <th>...</th>\n",
       "      <th>Symbol_TNBL</th>\n",
       "      <th>Symbol_TRH</th>\n",
       "      <th>Symbol_UFL</th>\n",
       "      <th>Symbol_UIC</th>\n",
       "      <th>Symbol_UMHL</th>\n",
       "      <th>Symbol_UNL</th>\n",
       "      <th>Symbol_VLBS</th>\n",
       "      <th>Symbol_WDBL</th>\n",
       "      <th>Symbol_WMBF</th>\n",
       "      <th>Symbol_WOMI</th>\n",
       "    </tr>\n",
       "  </thead>\n",
       "  <tbody>\n",
       "    <tr>\n",
       "      <th>2</th>\n",
       "      <td>115</td>\n",
       "      <td>115</td>\n",
       "      <td>113</td>\n",
       "      <td>1</td>\n",
       "      <td>0</td>\n",
       "      <td>0</td>\n",
       "      <td>0</td>\n",
       "      <td>0</td>\n",
       "      <td>0</td>\n",
       "      <td>0</td>\n",
       "      <td>...</td>\n",
       "      <td>0</td>\n",
       "      <td>0</td>\n",
       "      <td>0</td>\n",
       "      <td>0</td>\n",
       "      <td>0</td>\n",
       "      <td>0</td>\n",
       "      <td>0</td>\n",
       "      <td>0</td>\n",
       "      <td>0</td>\n",
       "      <td>0</td>\n",
       "    </tr>\n",
       "    <tr>\n",
       "      <th>3</th>\n",
       "      <td>319</td>\n",
       "      <td>319</td>\n",
       "      <td>312</td>\n",
       "      <td>0</td>\n",
       "      <td>1</td>\n",
       "      <td>0</td>\n",
       "      <td>0</td>\n",
       "      <td>0</td>\n",
       "      <td>0</td>\n",
       "      <td>0</td>\n",
       "      <td>...</td>\n",
       "      <td>0</td>\n",
       "      <td>0</td>\n",
       "      <td>0</td>\n",
       "      <td>0</td>\n",
       "      <td>0</td>\n",
       "      <td>0</td>\n",
       "      <td>0</td>\n",
       "      <td>0</td>\n",
       "      <td>0</td>\n",
       "      <td>0</td>\n",
       "    </tr>\n",
       "    <tr>\n",
       "      <th>5</th>\n",
       "      <td>168</td>\n",
       "      <td>165</td>\n",
       "      <td>165</td>\n",
       "      <td>0</td>\n",
       "      <td>0</td>\n",
       "      <td>0</td>\n",
       "      <td>1</td>\n",
       "      <td>0</td>\n",
       "      <td>0</td>\n",
       "      <td>0</td>\n",
       "      <td>...</td>\n",
       "      <td>0</td>\n",
       "      <td>0</td>\n",
       "      <td>0</td>\n",
       "      <td>0</td>\n",
       "      <td>0</td>\n",
       "      <td>0</td>\n",
       "      <td>0</td>\n",
       "      <td>0</td>\n",
       "      <td>0</td>\n",
       "      <td>0</td>\n",
       "    </tr>\n",
       "    <tr>\n",
       "      <th>9</th>\n",
       "      <td>504</td>\n",
       "      <td>494</td>\n",
       "      <td>494</td>\n",
       "      <td>0</td>\n",
       "      <td>0</td>\n",
       "      <td>0</td>\n",
       "      <td>0</td>\n",
       "      <td>0</td>\n",
       "      <td>0</td>\n",
       "      <td>0</td>\n",
       "      <td>...</td>\n",
       "      <td>0</td>\n",
       "      <td>0</td>\n",
       "      <td>0</td>\n",
       "      <td>0</td>\n",
       "      <td>0</td>\n",
       "      <td>0</td>\n",
       "      <td>0</td>\n",
       "      <td>0</td>\n",
       "      <td>0</td>\n",
       "      <td>0</td>\n",
       "    </tr>\n",
       "    <tr>\n",
       "      <th>12</th>\n",
       "      <td>601</td>\n",
       "      <td>630</td>\n",
       "      <td>597</td>\n",
       "      <td>0</td>\n",
       "      <td>0</td>\n",
       "      <td>0</td>\n",
       "      <td>0</td>\n",
       "      <td>0</td>\n",
       "      <td>0</td>\n",
       "      <td>0</td>\n",
       "      <td>...</td>\n",
       "      <td>0</td>\n",
       "      <td>0</td>\n",
       "      <td>0</td>\n",
       "      <td>0</td>\n",
       "      <td>0</td>\n",
       "      <td>0</td>\n",
       "      <td>0</td>\n",
       "      <td>0</td>\n",
       "      <td>0</td>\n",
       "      <td>0</td>\n",
       "    </tr>\n",
       "    <tr>\n",
       "      <th>13</th>\n",
       "      <td>498</td>\n",
       "      <td>489</td>\n",
       "      <td>489</td>\n",
       "      <td>0</td>\n",
       "      <td>0</td>\n",
       "      <td>0</td>\n",
       "      <td>0</td>\n",
       "      <td>0</td>\n",
       "      <td>0</td>\n",
       "      <td>0</td>\n",
       "      <td>...</td>\n",
       "      <td>0</td>\n",
       "      <td>0</td>\n",
       "      <td>0</td>\n",
       "      <td>0</td>\n",
       "      <td>0</td>\n",
       "      <td>0</td>\n",
       "      <td>0</td>\n",
       "      <td>0</td>\n",
       "      <td>0</td>\n",
       "      <td>0</td>\n",
       "    </tr>\n",
       "    <tr>\n",
       "      <th>15</th>\n",
       "      <td>170</td>\n",
       "      <td>173</td>\n",
       "      <td>167</td>\n",
       "      <td>0</td>\n",
       "      <td>0</td>\n",
       "      <td>0</td>\n",
       "      <td>0</td>\n",
       "      <td>0</td>\n",
       "      <td>0</td>\n",
       "      <td>0</td>\n",
       "      <td>...</td>\n",
       "      <td>0</td>\n",
       "      <td>0</td>\n",
       "      <td>0</td>\n",
       "      <td>0</td>\n",
       "      <td>0</td>\n",
       "      <td>0</td>\n",
       "      <td>0</td>\n",
       "      <td>0</td>\n",
       "      <td>0</td>\n",
       "      <td>0</td>\n",
       "    </tr>\n",
       "    <tr>\n",
       "      <th>16</th>\n",
       "      <td>244</td>\n",
       "      <td>240</td>\n",
       "      <td>240</td>\n",
       "      <td>0</td>\n",
       "      <td>0</td>\n",
       "      <td>0</td>\n",
       "      <td>0</td>\n",
       "      <td>0</td>\n",
       "      <td>0</td>\n",
       "      <td>0</td>\n",
       "      <td>...</td>\n",
       "      <td>0</td>\n",
       "      <td>0</td>\n",
       "      <td>0</td>\n",
       "      <td>0</td>\n",
       "      <td>0</td>\n",
       "      <td>0</td>\n",
       "      <td>0</td>\n",
       "      <td>0</td>\n",
       "      <td>0</td>\n",
       "      <td>0</td>\n",
       "    </tr>\n",
       "    <tr>\n",
       "      <th>17</th>\n",
       "      <td>696</td>\n",
       "      <td>695</td>\n",
       "      <td>681</td>\n",
       "      <td>0</td>\n",
       "      <td>0</td>\n",
       "      <td>0</td>\n",
       "      <td>0</td>\n",
       "      <td>0</td>\n",
       "      <td>0</td>\n",
       "      <td>0</td>\n",
       "      <td>...</td>\n",
       "      <td>0</td>\n",
       "      <td>0</td>\n",
       "      <td>0</td>\n",
       "      <td>0</td>\n",
       "      <td>0</td>\n",
       "      <td>0</td>\n",
       "      <td>0</td>\n",
       "      <td>0</td>\n",
       "      <td>0</td>\n",
       "      <td>0</td>\n",
       "    </tr>\n",
       "    <tr>\n",
       "      <th>18</th>\n",
       "      <td>922</td>\n",
       "      <td>904</td>\n",
       "      <td>904</td>\n",
       "      <td>0</td>\n",
       "      <td>0</td>\n",
       "      <td>0</td>\n",
       "      <td>0</td>\n",
       "      <td>0</td>\n",
       "      <td>0</td>\n",
       "      <td>0</td>\n",
       "      <td>...</td>\n",
       "      <td>0</td>\n",
       "      <td>0</td>\n",
       "      <td>0</td>\n",
       "      <td>0</td>\n",
       "      <td>0</td>\n",
       "      <td>0</td>\n",
       "      <td>0</td>\n",
       "      <td>0</td>\n",
       "      <td>0</td>\n",
       "      <td>0</td>\n",
       "    </tr>\n",
       "    <tr>\n",
       "      <th>19</th>\n",
       "      <td>285</td>\n",
       "      <td>266</td>\n",
       "      <td>266</td>\n",
       "      <td>0</td>\n",
       "      <td>0</td>\n",
       "      <td>0</td>\n",
       "      <td>0</td>\n",
       "      <td>0</td>\n",
       "      <td>0</td>\n",
       "      <td>0</td>\n",
       "      <td>...</td>\n",
       "      <td>0</td>\n",
       "      <td>0</td>\n",
       "      <td>0</td>\n",
       "      <td>0</td>\n",
       "      <td>0</td>\n",
       "      <td>0</td>\n",
       "      <td>0</td>\n",
       "      <td>0</td>\n",
       "      <td>0</td>\n",
       "      <td>0</td>\n",
       "    </tr>\n",
       "    <tr>\n",
       "      <th>21</th>\n",
       "      <td>112</td>\n",
       "      <td>114</td>\n",
       "      <td>111</td>\n",
       "      <td>0</td>\n",
       "      <td>0</td>\n",
       "      <td>0</td>\n",
       "      <td>0</td>\n",
       "      <td>0</td>\n",
       "      <td>0</td>\n",
       "      <td>0</td>\n",
       "      <td>...</td>\n",
       "      <td>0</td>\n",
       "      <td>0</td>\n",
       "      <td>0</td>\n",
       "      <td>0</td>\n",
       "      <td>0</td>\n",
       "      <td>0</td>\n",
       "      <td>0</td>\n",
       "      <td>0</td>\n",
       "      <td>0</td>\n",
       "      <td>0</td>\n",
       "    </tr>\n",
       "    <tr>\n",
       "      <th>23</th>\n",
       "      <td>98</td>\n",
       "      <td>101</td>\n",
       "      <td>98</td>\n",
       "      <td>0</td>\n",
       "      <td>0</td>\n",
       "      <td>0</td>\n",
       "      <td>0</td>\n",
       "      <td>0</td>\n",
       "      <td>0</td>\n",
       "      <td>0</td>\n",
       "      <td>...</td>\n",
       "      <td>0</td>\n",
       "      <td>0</td>\n",
       "      <td>0</td>\n",
       "      <td>0</td>\n",
       "      <td>0</td>\n",
       "      <td>0</td>\n",
       "      <td>0</td>\n",
       "      <td>0</td>\n",
       "      <td>0</td>\n",
       "      <td>0</td>\n",
       "    </tr>\n",
       "    <tr>\n",
       "      <th>26</th>\n",
       "      <td>45</td>\n",
       "      <td>44</td>\n",
       "      <td>43</td>\n",
       "      <td>0</td>\n",
       "      <td>0</td>\n",
       "      <td>0</td>\n",
       "      <td>0</td>\n",
       "      <td>0</td>\n",
       "      <td>0</td>\n",
       "      <td>1</td>\n",
       "      <td>...</td>\n",
       "      <td>0</td>\n",
       "      <td>0</td>\n",
       "      <td>0</td>\n",
       "      <td>0</td>\n",
       "      <td>0</td>\n",
       "      <td>0</td>\n",
       "      <td>0</td>\n",
       "      <td>0</td>\n",
       "      <td>0</td>\n",
       "      <td>0</td>\n",
       "    </tr>\n",
       "    <tr>\n",
       "      <th>27</th>\n",
       "      <td>467</td>\n",
       "      <td>465</td>\n",
       "      <td>465</td>\n",
       "      <td>0</td>\n",
       "      <td>0</td>\n",
       "      <td>0</td>\n",
       "      <td>0</td>\n",
       "      <td>0</td>\n",
       "      <td>0</td>\n",
       "      <td>0</td>\n",
       "      <td>...</td>\n",
       "      <td>0</td>\n",
       "      <td>0</td>\n",
       "      <td>0</td>\n",
       "      <td>0</td>\n",
       "      <td>0</td>\n",
       "      <td>0</td>\n",
       "      <td>0</td>\n",
       "      <td>0</td>\n",
       "      <td>0</td>\n",
       "      <td>0</td>\n",
       "    </tr>\n",
       "    <tr>\n",
       "      <th>28</th>\n",
       "      <td>58</td>\n",
       "      <td>57</td>\n",
       "      <td>56</td>\n",
       "      <td>0</td>\n",
       "      <td>0</td>\n",
       "      <td>0</td>\n",
       "      <td>0</td>\n",
       "      <td>0</td>\n",
       "      <td>0</td>\n",
       "      <td>0</td>\n",
       "      <td>...</td>\n",
       "      <td>0</td>\n",
       "      <td>0</td>\n",
       "      <td>0</td>\n",
       "      <td>0</td>\n",
       "      <td>0</td>\n",
       "      <td>0</td>\n",
       "      <td>0</td>\n",
       "      <td>0</td>\n",
       "      <td>0</td>\n",
       "      <td>0</td>\n",
       "    </tr>\n",
       "    <tr>\n",
       "      <th>29</th>\n",
       "      <td>120</td>\n",
       "      <td>101</td>\n",
       "      <td>101</td>\n",
       "      <td>0</td>\n",
       "      <td>0</td>\n",
       "      <td>0</td>\n",
       "      <td>0</td>\n",
       "      <td>0</td>\n",
       "      <td>0</td>\n",
       "      <td>0</td>\n",
       "      <td>...</td>\n",
       "      <td>0</td>\n",
       "      <td>0</td>\n",
       "      <td>0</td>\n",
       "      <td>0</td>\n",
       "      <td>0</td>\n",
       "      <td>0</td>\n",
       "      <td>0</td>\n",
       "      <td>0</td>\n",
       "      <td>0</td>\n",
       "      <td>0</td>\n",
       "    </tr>\n",
       "    <tr>\n",
       "      <th>31</th>\n",
       "      <td>82</td>\n",
       "      <td>85</td>\n",
       "      <td>82</td>\n",
       "      <td>0</td>\n",
       "      <td>0</td>\n",
       "      <td>0</td>\n",
       "      <td>0</td>\n",
       "      <td>0</td>\n",
       "      <td>0</td>\n",
       "      <td>0</td>\n",
       "      <td>...</td>\n",
       "      <td>0</td>\n",
       "      <td>0</td>\n",
       "      <td>0</td>\n",
       "      <td>0</td>\n",
       "      <td>0</td>\n",
       "      <td>0</td>\n",
       "      <td>0</td>\n",
       "      <td>0</td>\n",
       "      <td>0</td>\n",
       "      <td>0</td>\n",
       "    </tr>\n",
       "    <tr>\n",
       "      <th>32</th>\n",
       "      <td>213</td>\n",
       "      <td>217</td>\n",
       "      <td>217</td>\n",
       "      <td>0</td>\n",
       "      <td>0</td>\n",
       "      <td>0</td>\n",
       "      <td>0</td>\n",
       "      <td>0</td>\n",
       "      <td>0</td>\n",
       "      <td>0</td>\n",
       "      <td>...</td>\n",
       "      <td>0</td>\n",
       "      <td>0</td>\n",
       "      <td>0</td>\n",
       "      <td>0</td>\n",
       "      <td>0</td>\n",
       "      <td>0</td>\n",
       "      <td>0</td>\n",
       "      <td>0</td>\n",
       "      <td>0</td>\n",
       "      <td>0</td>\n",
       "    </tr>\n",
       "    <tr>\n",
       "      <th>33</th>\n",
       "      <td>236</td>\n",
       "      <td>135</td>\n",
       "      <td>135</td>\n",
       "      <td>0</td>\n",
       "      <td>0</td>\n",
       "      <td>0</td>\n",
       "      <td>0</td>\n",
       "      <td>0</td>\n",
       "      <td>0</td>\n",
       "      <td>0</td>\n",
       "      <td>...</td>\n",
       "      <td>0</td>\n",
       "      <td>0</td>\n",
       "      <td>0</td>\n",
       "      <td>0</td>\n",
       "      <td>0</td>\n",
       "      <td>0</td>\n",
       "      <td>0</td>\n",
       "      <td>0</td>\n",
       "      <td>0</td>\n",
       "      <td>0</td>\n",
       "    </tr>\n",
       "  </tbody>\n",
       "</table>\n",
       "<p>20 rows × 210 columns</p>\n",
       "</div>"
      ],
      "text/plain": [
       "    Open  High  Low  Symbol_ADBL  Symbol_AHPC  Symbol_AKPL  Symbol_ALICL  \\\n",
       "2    115   115  113            1            0            0             0   \n",
       "3    319   319  312            0            1            0             0   \n",
       "5    168   165  165            0            0            0             1   \n",
       "9    504   494  494            0            0            0             0   \n",
       "12   601   630  597            0            0            0             0   \n",
       "13   498   489  489            0            0            0             0   \n",
       "15   170   173  167            0            0            0             0   \n",
       "16   244   240  240            0            0            0             0   \n",
       "17   696   695  681            0            0            0             0   \n",
       "18   922   904  904            0            0            0             0   \n",
       "19   285   266  266            0            0            0             0   \n",
       "21   112   114  111            0            0            0             0   \n",
       "23    98   101   98            0            0            0             0   \n",
       "26    45    44   43            0            0            0             0   \n",
       "27   467   465  465            0            0            0             0   \n",
       "28    58    57   56            0            0            0             0   \n",
       "29   120   101  101            0            0            0             0   \n",
       "31    82    85   82            0            0            0             0   \n",
       "32   213   217  217            0            0            0             0   \n",
       "33   236   135  135            0            0            0             0   \n",
       "\n",
       "    Symbol_ALICLP  Symbol_API  Symbol_ARUN  ...  Symbol_TNBL  Symbol_TRH  \\\n",
       "2               0           0            0  ...            0           0   \n",
       "3               0           0            0  ...            0           0   \n",
       "5               0           0            0  ...            0           0   \n",
       "9               0           0            0  ...            0           0   \n",
       "12              0           0            0  ...            0           0   \n",
       "13              0           0            0  ...            0           0   \n",
       "15              0           0            0  ...            0           0   \n",
       "16              0           0            0  ...            0           0   \n",
       "17              0           0            0  ...            0           0   \n",
       "18              0           0            0  ...            0           0   \n",
       "19              0           0            0  ...            0           0   \n",
       "21              0           0            0  ...            0           0   \n",
       "23              0           0            0  ...            0           0   \n",
       "26              0           0            1  ...            0           0   \n",
       "27              0           0            0  ...            0           0   \n",
       "28              0           0            0  ...            0           0   \n",
       "29              0           0            0  ...            0           0   \n",
       "31              0           0            0  ...            0           0   \n",
       "32              0           0            0  ...            0           0   \n",
       "33              0           0            0  ...            0           0   \n",
       "\n",
       "    Symbol_UFL  Symbol_UIC  Symbol_UMHL  Symbol_UNL  Symbol_VLBS  Symbol_WDBL  \\\n",
       "2            0           0            0           0            0            0   \n",
       "3            0           0            0           0            0            0   \n",
       "5            0           0            0           0            0            0   \n",
       "9            0           0            0           0            0            0   \n",
       "12           0           0            0           0            0            0   \n",
       "13           0           0            0           0            0            0   \n",
       "15           0           0            0           0            0            0   \n",
       "16           0           0            0           0            0            0   \n",
       "17           0           0            0           0            0            0   \n",
       "18           0           0            0           0            0            0   \n",
       "19           0           0            0           0            0            0   \n",
       "21           0           0            0           0            0            0   \n",
       "23           0           0            0           0            0            0   \n",
       "26           0           0            0           0            0            0   \n",
       "27           0           0            0           0            0            0   \n",
       "28           0           0            0           0            0            0   \n",
       "29           0           0            0           0            0            0   \n",
       "31           0           0            0           0            0            0   \n",
       "32           0           0            0           0            0            0   \n",
       "33           0           0            0           0            0            0   \n",
       "\n",
       "    Symbol_WMBF  Symbol_WOMI  \n",
       "2             0            0  \n",
       "3             0            0  \n",
       "5             0            0  \n",
       "9             0            0  \n",
       "12            0            0  \n",
       "13            0            0  \n",
       "15            0            0  \n",
       "16            0            0  \n",
       "17            0            0  \n",
       "18            0            0  \n",
       "19            0            0  \n",
       "21            0            0  \n",
       "23            0            0  \n",
       "26            0            0  \n",
       "27            0            0  \n",
       "28            0            0  \n",
       "29            0            0  \n",
       "31            0            0  \n",
       "32            0            0  \n",
       "33            0            0  \n",
       "\n",
       "[20 rows x 210 columns]"
      ]
     },
     "execution_count": 46,
     "metadata": {},
     "output_type": "execute_result"
    }
   ],
   "source": [
    "x_train.head(20)"
   ]
  },
  {
   "cell_type": "code",
   "execution_count": 47,
   "id": "65eaefbe",
   "metadata": {},
   "outputs": [
    {
     "data": {
      "text/plain": [
       "((120988,), (77001,))"
      ]
     },
     "execution_count": 47,
     "metadata": {},
     "output_type": "execute_result"
    }
   ],
   "source": []
  },
  {
   "cell_type": "code",
   "execution_count": 39,
   "id": "1f469fff",
   "metadata": {},
   "outputs": [],
   "source": [
    "from sklearn.linear_model import LinearRegression\n",
    "from sklearn.linear_model import Ridge\n",
    "from sklearn.model_selection import GridSearchCV"
   ]
  },
  {
   "cell_type": "code",
   "execution_count": 40,
   "id": "4adb0ea7",
   "metadata": {},
   "outputs": [
    {
     "name": "stderr",
     "output_type": "stream",
     "text": [
      "g:\\nepalstockanalysis\\venv\\lib\\site-packages\\sklearn\\linear_model\\_ridge.py:147: LinAlgWarning: Ill-conditioned matrix (rcond=8.80489e-28): result may not be accurate.\n",
      "  return linalg.solve(A, Xy, sym_pos=True,\n",
      "g:\\nepalstockanalysis\\venv\\lib\\site-packages\\sklearn\\linear_model\\_ridge.py:147: LinAlgWarning: Ill-conditioned matrix (rcond=1.06223e-27): result may not be accurate.\n",
      "  return linalg.solve(A, Xy, sym_pos=True,\n",
      "g:\\nepalstockanalysis\\venv\\lib\\site-packages\\sklearn\\linear_model\\_ridge.py:147: LinAlgWarning: Ill-conditioned matrix (rcond=8.80489e-23): result may not be accurate.\n",
      "  return linalg.solve(A, Xy, sym_pos=True,\n",
      "g:\\nepalstockanalysis\\venv\\lib\\site-packages\\sklearn\\linear_model\\_ridge.py:147: LinAlgWarning: Ill-conditioned matrix (rcond=9.02339e-23): result may not be accurate.\n",
      "  return linalg.solve(A, Xy, sym_pos=True,\n",
      "g:\\nepalstockanalysis\\venv\\lib\\site-packages\\sklearn\\linear_model\\_ridge.py:147: LinAlgWarning: Ill-conditioned matrix (rcond=1.06223e-22): result may not be accurate.\n",
      "  return linalg.solve(A, Xy, sym_pos=True,\n",
      "g:\\nepalstockanalysis\\venv\\lib\\site-packages\\sklearn\\linear_model\\_ridge.py:147: LinAlgWarning: Ill-conditioned matrix (rcond=1.25014e-22): result may not be accurate.\n",
      "  return linalg.solve(A, Xy, sym_pos=True,\n",
      "g:\\nepalstockanalysis\\venv\\lib\\site-packages\\sklearn\\linear_model\\_ridge.py:147: LinAlgWarning: Ill-conditioned matrix (rcond=1.24773e-22): result may not be accurate.\n",
      "  return linalg.solve(A, Xy, sym_pos=True,\n",
      "g:\\nepalstockanalysis\\venv\\lib\\site-packages\\sklearn\\linear_model\\_ridge.py:147: LinAlgWarning: Ill-conditioned matrix (rcond=8.80489e-21): result may not be accurate.\n",
      "  return linalg.solve(A, Xy, sym_pos=True,\n",
      "g:\\nepalstockanalysis\\venv\\lib\\site-packages\\sklearn\\linear_model\\_ridge.py:147: LinAlgWarning: Ill-conditioned matrix (rcond=9.03933e-21): result may not be accurate.\n",
      "  return linalg.solve(A, Xy, sym_pos=True,\n",
      "g:\\nepalstockanalysis\\venv\\lib\\site-packages\\sklearn\\linear_model\\_ridge.py:147: LinAlgWarning: Ill-conditioned matrix (rcond=1.06223e-20): result may not be accurate.\n",
      "  return linalg.solve(A, Xy, sym_pos=True,\n",
      "g:\\nepalstockanalysis\\venv\\lib\\site-packages\\sklearn\\linear_model\\_ridge.py:147: LinAlgWarning: Ill-conditioned matrix (rcond=1.2555e-20): result may not be accurate.\n",
      "  return linalg.solve(A, Xy, sym_pos=True,\n",
      "g:\\nepalstockanalysis\\venv\\lib\\site-packages\\sklearn\\linear_model\\_ridge.py:147: LinAlgWarning: Ill-conditioned matrix (rcond=1.25028e-20): result may not be accurate.\n",
      "  return linalg.solve(A, Xy, sym_pos=True,\n"
     ]
    },
    {
     "data": {
      "text/plain": [
       "GridSearchCV(cv=5, estimator=Ridge(),\n",
       "             param_grid={'alpha': [1e-15, 1e-10, 1e-08, 0.001, 0.01, 1, 2, 5,\n",
       "                                   10, 20, 30, 35, 40]},\n",
       "             scoring='neg_mean_squared_error')"
      ]
     },
     "execution_count": 40,
     "metadata": {},
     "output_type": "execute_result"
    }
   ],
   "source": [
    "ridge = Ridge()\n",
    "parameters = {'alpha': [1e-15, 1e-10, 1e-8, 1e-3, 1e-2, 1, 2, 5, 10, 20, 30, 35, 40]}\n",
    "ridge_model = GridSearchCV(ridge, parameters, scoring='neg_mean_squared_error', cv=5)\n",
    "ridge_model.fit(x_train, y_train)"
   ]
  },
  {
   "cell_type": "code",
   "execution_count": 41,
   "id": "f2e8c697",
   "metadata": {},
   "outputs": [
    {
     "data": {
      "text/plain": [
       "array([412.23849187, 204.72205669, 342.73841607, ..., 203.99149921,\n",
       "       305.32322106, 100.57724848])"
      ]
     },
     "execution_count": 41,
     "metadata": {},
     "output_type": "execute_result"
    }
   ],
   "source": [
    "prediction = ridge_model.predict(x_test)\n",
    "prediction"
   ]
  },
  {
   "cell_type": "code",
   "execution_count": 42,
   "id": "1a432ca1",
   "metadata": {},
   "outputs": [],
   "source": [
    "import pickle"
   ]
  },
  {
   "cell_type": "code",
   "execution_count": 43,
   "id": "f45d2be9",
   "metadata": {},
   "outputs": [],
   "source": [
    "filename = 'final_modal.pkl'\n",
    "pickle.dump(ridge_model, open(filename, 'wb'))"
   ]
  },
  {
   "cell_type": "code",
   "execution_count": 44,
   "id": "39a6f585",
   "metadata": {},
   "outputs": [],
   "source": [
    "import seaborn as sns"
   ]
  },
  {
   "cell_type": "code",
   "execution_count": 45,
   "id": "ecc27858",
   "metadata": {},
   "outputs": [
    {
     "name": "stderr",
     "output_type": "stream",
     "text": [
      "g:\\nepalstockanalysis\\venv\\lib\\site-packages\\seaborn\\distributions.py:2557: FutureWarning: `distplot` is a deprecated function and will be removed in a future version. Please adapt your code to use either `displot` (a figure-level function with similar flexibility) or `histplot` (an axes-level function for histograms).\n",
      "  warnings.warn(msg, FutureWarning)\n"
     ]
    },
    {
     "data": {
      "text/plain": [
       "<AxesSubplot:ylabel='Density'>"
      ]
     },
     "execution_count": 45,
     "metadata": {},
     "output_type": "execute_result"
    },
    {
     "data": {
      "image/png": "[encoded data removed]",
      "text/plain": [
       "<Figure size 432x288 with 1 Axes>"
      ]
     },
     "metadata": {
      "needs_background": "light"
     },
     "output_type": "display_data"
    }
   ],
   "source": [
    "sns.distplot(y_test-prediction)"
   ]
  },
  {
   "cell_type": "code",
   "execution_count": null,
   "id": "fa7614ac",
   "metadata": {},
   "outputs": [],
   "source": []
  }
 ],
 "metadata": {
  "kernelspec": {
   "display_name": "Python 3",
   "language": "python",
   "name": "python3"
  },
  "language_info": {
   "codemirror_mode": {
    "name": "ipython",
    "version": 3
   },
   "file_extension": ".py",
   "mimetype": "text/x-python",
   "name": "python",
   "nbconvert_exporter": "python",
   "pygments_lexer": "ipython3",
   "version": "3.9.5"
  }
 },
 "nbformat": 4,
 "nbformat_minor": 5
}
